{
 "cells": [
  {
   "cell_type": "markdown",
   "id": "15b369c4",
   "metadata": {},
   "source": [
    "1- import of the pandas library for the analisys of the data received"
   ]
  },
  {
   "cell_type": "code",
   "execution_count": 2,
   "id": "85768b6c",
   "metadata": {},
   "outputs": [],
   "source": [
    "import pandas as pd "
   ]
  },
  {
   "cell_type": "markdown",
   "id": "6c7cdcd9",
   "metadata": {},
   "source": [
    "2- declaration of the path where the file is located with the gas price data"
   ]
  },
  {
   "cell_type": "code",
   "execution_count": 1,
   "id": "9bacf855",
   "metadata": {},
   "outputs": [],
   "source": [
    "ruta = r'C:\\Users\\Tena\\Desktop\\precios-gas\\precios.xlsx'"
   ]
  },
  {
   "cell_type": "markdown",
   "id": "88389e0c",
   "metadata": {},
   "source": [
    "3- Reading the excel where the data is hosted  "
   ]
  },
  {
   "cell_type": "code",
   "execution_count": 3,
   "id": "76ca3b6a",
   "metadata": {},
   "outputs": [],
   "source": [
    "precios_gas = pd.read_excel(ruta)"
   ]
  },
  {
   "cell_type": "markdown",
   "id": "09017219",
   "metadata": {},
   "source": [
    "4- Declaration of the variables used to work with the data requested by the company"
   ]
  },
  {
   "cell_type": "code",
   "execution_count": 4,
   "id": "e83e0b98",
   "metadata": {},
   "outputs": [],
   "source": [
    "precio_promedio_gas = precios_gas['Precio (USD/MMBTU)'].mean()\n",
    "\n",
    "precio_maximo_gas = precios_gas['Precio (USD/MMBTU)'].max()\n",
    "\n",
    "precio_minimo_gas = precios_gas['Precio (USD/MMBTU)'].min()\n",
    "\n",
    "precio_por_cuenca = precios_gas.groupby('Cuenca')['Precio (USD/MMBTU)'].mean()\n",
    "\n",
    "precio_sin_total = precio_por_cuenca.drop('Todas')\n",
    "\n",
    "precio_por_segmento = precios_gas.groupby('Segmento')['Precio (USD/MMBTU)'].mean()\n",
    "\n",
    "precio_segmento_formateado = precio_por_segmento.apply(lambda x: f'{x: 6f} (USD/MMBTU)')\n",
    "\n",
    "precio_promedio_por_cuenca_ordenadas = precio_sin_total.sort_values(ascending=False)\n",
    "\n",
    "precio_cuenca_formateado = precio_promedio_por_cuenca_ordenadas.apply(lambda x: f'{x: 6f} (USD/MMBTU)')"
   ]
  },
  {
   "cell_type": "markdown",
   "id": "4a6fb451",
   "metadata": {},
   "source": [
    "5- Prints showing the results of the consultations made by the company"
   ]
  },
  {
   "cell_type": "code",
   "execution_count": 5,
   "id": "a558e30a",
   "metadata": {},
   "outputs": [
    {
     "name": "stdout",
     "output_type": "stream",
     "text": [
      "1- El precio promedio por cuenca:\n",
      "\n",
      "Cuenca\n",
      "Neuquina                     3.298016 (USD/MMBTU)\n",
      "Austral Santa Cruz           2.818095 (USD/MMBTU)\n",
      "Golfo de San Jorge           2.594921 (USD/MMBTU)\n",
      "Noroeste                     2.550714 (USD/MMBTU)\n",
      "Austral Tierra del Fuego     2.375635 (USD/MMBTU)\n",
      "\n",
      "2- El precio promedio de gas por mes: 5.33 (USD/MMBTU)\n",
      "\n",
      "3- Precio promedio de gas por segmento:\n",
      "\n",
      "Segmento\n",
      "Distribuidora     3.641019 (USD/MMBTU)\n",
      "Exportación       2.369074 (USD/MMBTU)\n",
      "GNC               2.783981 (USD/MMBTU)\n",
      "Industria         3.577593 (USD/MMBTU)\n",
      "Otros             1.107037 (USD/MMBTU)\n",
      "PPP               3.472685 (USD/MMBTU)\n",
      "Usina             2.791944 (USD/MMBTU)\n",
      "\n",
      "4- Precio máximo en el periodo enero-junio 2019: 5.33 (USD/MMBTU)\n",
      "\n",
      "5- Precio mínimo en el periodo enero-junio 2019: 0.0 (USD/MMBTU)\n"
     ]
    }
   ],
   "source": [
    "print(f'1- El precio promedio por cuenca:\\n')\n",
    "print(precio_cuenca_formateado.to_string())\n",
    "print(f'\\n2- El precio promedio de gas por mes: {precio_maximo_gas} (USD/MMBTU)')\n",
    "print(f'\\n3- Precio promedio de gas por segmento:\\n')\n",
    "print(precio_segmento_formateado.to_string())\n",
    "print(f'\\n4- Precio máximo en el periodo enero-junio 2019: {precio_maximo_gas} (USD/MMBTU)')\n",
    "print(f'\\n5- Precio mínimo en el periodo enero-junio 2019: {precio_minimo_gas} (USD/MMBTU)')"
   ]
  }
 ],
 "metadata": {
  "kernelspec": {
   "display_name": "gas",
   "language": "python",
   "name": "python3"
  },
  "language_info": {
   "codemirror_mode": {
    "name": "ipython",
    "version": 3
   },
   "file_extension": ".py",
   "mimetype": "text/x-python",
   "name": "python",
   "nbconvert_exporter": "python",
   "pygments_lexer": "ipython3",
   "version": "3.13.2"
  }
 },
 "nbformat": 4,
 "nbformat_minor": 5
}
